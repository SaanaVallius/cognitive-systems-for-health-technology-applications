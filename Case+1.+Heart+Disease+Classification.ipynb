{
 "cells": [
  {
   "cell_type": "markdown",
   "metadata": {},
   "source": [
    "# Case 1. Heart Disease Classification\n",
    "\n",
    "Saana Vallius\n",
    "\n",
    "3.2.2018\n",
    "\n",
    "Helsinki Metropolia University of Applied Sciences"
   ]
  },
  {
   "cell_type": "markdown",
   "metadata": {},
   "source": [
    "## 1. Objectives"
   ]
  },
  {
   "cell_type": "markdown",
   "metadata": {},
   "source": [
    "The main objective of the assignment is to build a dense neural network for predicting whether a patient has heart disease. The classification between affected and healthy individuals is based on a collection of data concerning heart disease diagnosis collected in four health institutions: Cleveland Clinic Foundation (cleveland.data), Hungarian Institute of Cardiology, Budapest (hungarian.data), V.A. Medical Center, Long Beach, CA (long-beach-va.data) and University Hospital, Zurich, Switzerland (switzerland.data). The principal inverstigators responsible for collecting the data are listed below:\n",
    "\n",
    "| Principal investigators     |Institution                                                      |\n",
    "|:----------------------------|:----------------------------------------------------------------|\n",
    "| Andras Janosi, M.D.         | Hungarian Institute of Cardiology. Budapest, Hungary            |\n",
    "| William Steinbrunn, M.D.    | University Hospital. Zurich, Switzerland                        |\n",
    "| Matthias Pfisterer, M.D     | University Hospital. Basel, Switzerland                         |\n",
    "| Robert Detrano, M.D., Ph.D. | V.A. Medical Center. Long Beach and Cleveland Clinic Foundation |\n",
    "\n",
    "Additionally, the goal for this project is to learn how to read and process data in various ways using pandas to enable the use of the data in training the network."
   ]
  },
  {
   "cell_type": "markdown",
   "metadata": {},
   "source": [
    "## 2. Required Imports"
   ]
  },
  {
   "cell_type": "code",
   "execution_count": 1,
   "metadata": {},
   "outputs": [
    {
     "name": "stderr",
     "output_type": "stream",
     "text": [
      "Using TensorFlow backend.\n"
     ]
    }
   ],
   "source": [
    "import numpy as np\n",
    "import matplotlib.pyplot as plt\n",
    "import pandas as pd\n",
    "\n",
    "import sklearn as sk\n",
    "from sklearn import preprocessing\n",
    "from sklearn.model_selection import train_test_split\n",
    "\n",
    "import keras\n",
    "from keras.models import Sequential\n",
    "from keras.layers import Dense, Activation, Dropout\n",
    "from keras import models\n",
    "from keras import layers"
   ]
  },
  {
   "cell_type": "markdown",
   "metadata": {},
   "source": [
    "## 3. Data Description and Preprocessing"
   ]
  },
  {
   "cell_type": "markdown",
   "metadata": {},
   "source": [
    "The heart disease directory contains four databases all of the same type. They have 920 samples in total.\n",
    "The databases present 76 different numeric attributes but only 14 of them are used:\n",
    "\n",
    "1. Age (age)\n",
    "2. Sex (sex)\n",
    "3. Chest Pain Type (cp)\n",
    "4. Resting Blood Pressure in mmHg (trestbps) \n",
    "5. Serum Cholesterol in mg/dl (chol)      \n",
    "6. Fasting Blood Sugar > 120mg/dl (fbs)\n",
    " - Value 0: (false)\n",
    " -  Value 1: (true)\n",
    "7. Resting Electrocardiographic Results(restecg)\n",
    " - Value 0: Normal\n",
    " - Value 1: Having ST-T wave abnormality (T wave inversions and/or ST elevation or depression of > 0.05)\n",
    "8. Maximum Heartrate Achieved (thalach)   \n",
    "9. Exercise Induced Angina (exang)\n",
    " - Value 0: No\n",
    " - Value 1: Yes\n",
    "10. ST Depression Induced by Exercise Relative to Rest (oldpeak)   \n",
    "11. Slope of The Peak Exercise ST Segment (slope)\n",
    " - Value 1: Upsloping\n",
    " - Value 2: Flat\n",
    " - Value 3: Downsloping\n",
    "12. Number of Major Vessels (0-3) Coloured by Fluoroscopy (ca)        \n",
    "13. 3 = Normal, 6 = Fixed Defect, 7 = Reversible Defect (thal)      \n",
    "14. Diagnosis of Heart Disease (Angiographic Disease Status) (num)\n",
    " - Value 0: < 50% Diameter Narrowing\n",
    " - Value 1,2,3,4: > 50% Diameter Narrowing (in any major vessel)\n",
    "\n",
    "\n",
    "\n",
    "\n",
    "There have been several attempts of trying to make predictions based on the data. These trials have utilized various kinds of algorithms and clustering and classification methods and reached accuracies ranging from 74.8% to 78.9%. All these published experiments have used the same 14 attributes as the ones used in this project. The information sheet of the databases states that only one of the databases, Cleveland data, has been used in these machine learning experiments.\n",
    "\n",
    "The data dates back to year 1988 and the latest updates to the directory are from 1996. The author of the database has posted, along with the database, a warning that the file cleveland.data has been corrupted but the preprocessed processed.cleveland.data would be safe to use. All the other datasets used in this project to get the final results consisted of raw data. \n",
    "\n",
    "The labels (num) from 0 to 4 are treated so that the value of 0 means the individual healthy and anything from 1 to 4 that the individual is affected by heart disease. The databases that have been processed by the author all use '?' as a marker for missing values. The unprocessed databases, however, mark those values as the value -9.0."
   ]
  },
  {
   "cell_type": "markdown",
   "metadata": {},
   "source": [
    "### 3.1 Reading Data\n",
    "* Read data both from processed and raw text files\n",
    "* Combine the data and labels into one set\n",
    "* Add column names\n",
    "* Name missing values as NaN\n"
   ]
  },
  {
   "cell_type": "code",
   "execution_count": 2,
   "metadata": {},
   "outputs": [],
   "source": [
    "#Define column names\n",
    "column_names = (['age','sex','cp','trestbps','chol',\n",
    "                'fbs','restecg','thalach','exang',\n",
    "                 'oldpeak','slope','ca','thal','num'])\n",
    "\n",
    "#Read file to pandas data frame, missing symbols marked as '?' are changed to NaN (PROCESSED DATA)\n",
    "cl_data = pd.read_csv('processed.cleveland.data.txt', names = column_names, na_values='?', dtype='float64')\n",
    "#hu_data = pd.read_csv('processed.hungarian.data.txt', names = column_names, na_values='?', dtype='float64')\n",
    "#lb_data = pd.read_csv('processed.va.data.txt', names = column_names, na_values='?', dtype='float64')\n",
    "#sw_data = pd.read_csv('processed.switzerland.data.txt', names = column_names, na_values='?', dtype='float64')\n",
    "#all_data = cl_data.append([hu_data, lb_data, sw_data], ignore_index = True)\n",
    "\n",
    "all_data = cl_data"
   ]
  },
  {
   "cell_type": "code",
   "execution_count": 3,
   "metadata": {},
   "outputs": [
    {
     "name": "stdout",
     "output_type": "stream",
     "text": [
      "(303, 14)\n",
      "(617, 76)\n"
     ]
    }
   ],
   "source": [
    "#Read raw data\n",
    "temp = ''\n",
    "lines = []\n",
    "space = ' '\n",
    "raw_data = pd.DataFrame()\n",
    "\n",
    "files = ['long-beach-va.data.txt','hungarian.data.txt', 'switzerland.data.txt']\n",
    "\n",
    "#Read all raw files line by line\n",
    "for file in files:\n",
    "    with open(file) as f:\n",
    "        for line in f:\n",
    "            if(line.endswith('\\n')):\n",
    "                temp+=space\n",
    "            temp+=line.rstrip('\\n')\n",
    "            if (temp.endswith('name')):\n",
    "                l = []\n",
    "                for t in temp.split():\n",
    "                    l.append(t)\n",
    "                lines.append(l)\n",
    "                temp = ''\n",
    "    raw_data = raw_data.append(pd.DataFrame(lines))\n",
    "    lines = []\n",
    "    \n",
    "#Check the shapes of the data frames\n",
    "print(all_data.shape)\n",
    "print(raw_data.shape)"
   ]
  },
  {
   "cell_type": "code",
   "execution_count": 4,
   "metadata": {},
   "outputs": [],
   "source": [
    "#Separate the data from the labels (PROCESSED DATA)\n",
    "\n",
    "cl_labels = cl_data['num']\n",
    "#hu_labels = hu_data['num']\n",
    "#lb_labels = lb_data['num']\n",
    "#sw_labels = sw_data['num']\n",
    "#all_labels = cl_labels.append([hu_labels, lb_labels, sw_labels], ignore_index = True)\n",
    "all_labels = cl_labels\n",
    "\n",
    "\n",
    "#Drop the 'num' column from the data\n",
    "cl_data.drop('num', inplace=True, axis=1)\n",
    "#hu_data.drop('num', inplace=True, axis=1)\n",
    "#lb_data.drop('num', inplace=True, axis=1)\n",
    "#sw_data.drop('num', inplace=True, axis=1)\n",
    "#all_data.drop('num', inplace=True, axis=1)"
   ]
  },
  {
   "cell_type": "code",
   "execution_count": 5,
   "metadata": {},
   "outputs": [
    {
     "name": "stdout",
     "output_type": "stream",
     "text": [
      "(617, 13)\n",
      "(303, 13)\n",
      "(617,)\n",
      "(303,)\n"
     ]
    }
   ],
   "source": [
    "#Save the labels\n",
    "raw_labels = raw_data[57]\n",
    "\n",
    "#Select the 13 needed data columns from the data\n",
    "raw_data = raw_data[[2,3,8,9,11,15,18,31,37,39,40,43,50]]\n",
    "raw_data.columns = ['age','sex','cp','trestbps','chol',\n",
    "                    'fbs','restecg','thalach','exang',\n",
    "                    'oldpeak','slope','ca','thal']\n",
    "\n",
    "#Verify the shapes\n",
    "print(raw_data.shape)\n",
    "print(all_data.shape)\n",
    "print(raw_labels.shape)\n",
    "print(all_labels.shape)"
   ]
  },
  {
   "cell_type": "code",
   "execution_count": 6,
   "metadata": {},
   "outputs": [
    {
     "name": "stdout",
     "output_type": "stream",
     "text": [
      "(920, 13)\n",
      "(920,)\n"
     ]
    }
   ],
   "source": [
    "#Merge the data frames\n",
    "all_data = all_data.append(raw_data, ignore_index = True)\n",
    "all_labels = all_labels.append(raw_labels)\n",
    "\n",
    "#Change type to float64\n",
    "all_data = all_data.astype('float64')\n",
    "all_labels = all_labels.astype('float64')\n",
    "\n",
    "#Check shapes and types\n",
    "print(all_data.shape)\n",
    "print(all_labels.shape)\n",
    "\n",
    "#Mark -9.0 as NaN\n",
    "all_data = all_data.replace(-9,np.nan)"
   ]
  },
  {
   "cell_type": "markdown",
   "metadata": {},
   "source": [
    "### 3.2 Basic Information\n",
    "* Retrieve and show basic information on the data such as data types, shape, NaN values, and pairwise correlation "
   ]
  },
  {
   "cell_type": "code",
   "execution_count": 7,
   "metadata": {},
   "outputs": [
    {
     "name": "stdout",
     "output_type": "stream",
     "text": [
      "Data types\n",
      "----------------------\n",
      " age         float64\n",
      "sex         float64\n",
      "cp          float64\n",
      "trestbps    float64\n",
      "chol        float64\n",
      "fbs         float64\n",
      "restecg     float64\n",
      "thalach     float64\n",
      "exang       float64\n",
      "oldpeak     float64\n",
      "slope       float64\n",
      "ca          float64\n",
      "thal        float64\n",
      "dtype: object\n",
      "\n",
      "\n",
      "Data shape: (920, 13)\n",
      "\n",
      "\n",
      "NaN values per column\n",
      "----------------------\n",
      " age           0\n",
      "sex           0\n",
      "cp            0\n",
      "trestbps     59\n",
      "chol         30\n",
      "fbs          90\n",
      "restecg       2\n",
      "thalach      55\n",
      "exang        55\n",
      "oldpeak      62\n",
      "slope       308\n",
      "ca          610\n",
      "thal        477\n",
      "dtype: int64\n",
      "\n",
      "Maximum of labels: 4.0\n"
     ]
    },
    {
     "data": {
      "text/html": [
       "<div>\n",
       "<style>\n",
       "    .dataframe thead tr:only-child th {\n",
       "        text-align: right;\n",
       "    }\n",
       "\n",
       "    .dataframe thead th {\n",
       "        text-align: left;\n",
       "    }\n",
       "\n",
       "    .dataframe tbody tr th {\n",
       "        vertical-align: top;\n",
       "    }\n",
       "</style>\n",
       "<table border=\"1\" class=\"dataframe\">\n",
       "  <thead>\n",
       "    <tr style=\"text-align: right;\">\n",
       "      <th></th>\n",
       "      <th>age</th>\n",
       "      <th>sex</th>\n",
       "      <th>cp</th>\n",
       "      <th>trestbps</th>\n",
       "      <th>chol</th>\n",
       "      <th>fbs</th>\n",
       "      <th>restecg</th>\n",
       "      <th>thalach</th>\n",
       "      <th>exang</th>\n",
       "      <th>oldpeak</th>\n",
       "      <th>slope</th>\n",
       "      <th>ca</th>\n",
       "      <th>thal</th>\n",
       "    </tr>\n",
       "  </thead>\n",
       "  <tbody>\n",
       "    <tr>\n",
       "      <th>count</th>\n",
       "      <td>920.000000</td>\n",
       "      <td>920.000000</td>\n",
       "      <td>920.000000</td>\n",
       "      <td>861.000000</td>\n",
       "      <td>890.000000</td>\n",
       "      <td>830.000000</td>\n",
       "      <td>918.000000</td>\n",
       "      <td>865.000000</td>\n",
       "      <td>865.000000</td>\n",
       "      <td>858.000000</td>\n",
       "      <td>612.000000</td>\n",
       "      <td>310.000000</td>\n",
       "      <td>443.000000</td>\n",
       "    </tr>\n",
       "    <tr>\n",
       "      <th>mean</th>\n",
       "      <td>53.510870</td>\n",
       "      <td>0.789130</td>\n",
       "      <td>3.250000</td>\n",
       "      <td>132.132404</td>\n",
       "      <td>199.130337</td>\n",
       "      <td>0.166265</td>\n",
       "      <td>0.604575</td>\n",
       "      <td>137.545665</td>\n",
       "      <td>0.389595</td>\n",
       "      <td>0.878788</td>\n",
       "      <td>1.767974</td>\n",
       "      <td>0.703226</td>\n",
       "      <td>5.040632</td>\n",
       "    </tr>\n",
       "    <tr>\n",
       "      <th>std</th>\n",
       "      <td>9.424685</td>\n",
       "      <td>0.408148</td>\n",
       "      <td>0.930969</td>\n",
       "      <td>19.066070</td>\n",
       "      <td>110.780810</td>\n",
       "      <td>0.372543</td>\n",
       "      <td>0.805827</td>\n",
       "      <td>25.926276</td>\n",
       "      <td>0.487941</td>\n",
       "      <td>1.091226</td>\n",
       "      <td>0.622876</td>\n",
       "      <td>1.046951</td>\n",
       "      <td>1.944518</td>\n",
       "    </tr>\n",
       "    <tr>\n",
       "      <th>min</th>\n",
       "      <td>28.000000</td>\n",
       "      <td>0.000000</td>\n",
       "      <td>1.000000</td>\n",
       "      <td>0.000000</td>\n",
       "      <td>0.000000</td>\n",
       "      <td>0.000000</td>\n",
       "      <td>0.000000</td>\n",
       "      <td>60.000000</td>\n",
       "      <td>0.000000</td>\n",
       "      <td>-2.600000</td>\n",
       "      <td>0.000000</td>\n",
       "      <td>0.000000</td>\n",
       "      <td>1.000000</td>\n",
       "    </tr>\n",
       "    <tr>\n",
       "      <th>25%</th>\n",
       "      <td>47.000000</td>\n",
       "      <td>1.000000</td>\n",
       "      <td>3.000000</td>\n",
       "      <td>120.000000</td>\n",
       "      <td>175.000000</td>\n",
       "      <td>0.000000</td>\n",
       "      <td>0.000000</td>\n",
       "      <td>120.000000</td>\n",
       "      <td>0.000000</td>\n",
       "      <td>0.000000</td>\n",
       "      <td>1.000000</td>\n",
       "      <td>0.000000</td>\n",
       "      <td>3.000000</td>\n",
       "    </tr>\n",
       "    <tr>\n",
       "      <th>50%</th>\n",
       "      <td>54.000000</td>\n",
       "      <td>1.000000</td>\n",
       "      <td>4.000000</td>\n",
       "      <td>130.000000</td>\n",
       "      <td>223.000000</td>\n",
       "      <td>0.000000</td>\n",
       "      <td>0.000000</td>\n",
       "      <td>140.000000</td>\n",
       "      <td>0.000000</td>\n",
       "      <td>0.500000</td>\n",
       "      <td>2.000000</td>\n",
       "      <td>0.000000</td>\n",
       "      <td>6.000000</td>\n",
       "    </tr>\n",
       "    <tr>\n",
       "      <th>75%</th>\n",
       "      <td>60.000000</td>\n",
       "      <td>1.000000</td>\n",
       "      <td>4.000000</td>\n",
       "      <td>140.000000</td>\n",
       "      <td>268.000000</td>\n",
       "      <td>0.000000</td>\n",
       "      <td>1.000000</td>\n",
       "      <td>157.000000</td>\n",
       "      <td>1.000000</td>\n",
       "      <td>1.500000</td>\n",
       "      <td>2.000000</td>\n",
       "      <td>1.000000</td>\n",
       "      <td>7.000000</td>\n",
       "    </tr>\n",
       "    <tr>\n",
       "      <th>max</th>\n",
       "      <td>77.000000</td>\n",
       "      <td>1.000000</td>\n",
       "      <td>4.000000</td>\n",
       "      <td>200.000000</td>\n",
       "      <td>603.000000</td>\n",
       "      <td>1.000000</td>\n",
       "      <td>2.000000</td>\n",
       "      <td>202.000000</td>\n",
       "      <td>1.000000</td>\n",
       "      <td>6.200000</td>\n",
       "      <td>3.000000</td>\n",
       "      <td>9.000000</td>\n",
       "      <td>7.000000</td>\n",
       "    </tr>\n",
       "  </tbody>\n",
       "</table>\n",
       "</div>"
      ],
      "text/plain": [
       "              age         sex          cp    trestbps        chol         fbs  \\\n",
       "count  920.000000  920.000000  920.000000  861.000000  890.000000  830.000000   \n",
       "mean    53.510870    0.789130    3.250000  132.132404  199.130337    0.166265   \n",
       "std      9.424685    0.408148    0.930969   19.066070  110.780810    0.372543   \n",
       "min     28.000000    0.000000    1.000000    0.000000    0.000000    0.000000   \n",
       "25%     47.000000    1.000000    3.000000  120.000000  175.000000    0.000000   \n",
       "50%     54.000000    1.000000    4.000000  130.000000  223.000000    0.000000   \n",
       "75%     60.000000    1.000000    4.000000  140.000000  268.000000    0.000000   \n",
       "max     77.000000    1.000000    4.000000  200.000000  603.000000    1.000000   \n",
       "\n",
       "          restecg     thalach       exang     oldpeak       slope          ca  \\\n",
       "count  918.000000  865.000000  865.000000  858.000000  612.000000  310.000000   \n",
       "mean     0.604575  137.545665    0.389595    0.878788    1.767974    0.703226   \n",
       "std      0.805827   25.926276    0.487941    1.091226    0.622876    1.046951   \n",
       "min      0.000000   60.000000    0.000000   -2.600000    0.000000    0.000000   \n",
       "25%      0.000000  120.000000    0.000000    0.000000    1.000000    0.000000   \n",
       "50%      0.000000  140.000000    0.000000    0.500000    2.000000    0.000000   \n",
       "75%      1.000000  157.000000    1.000000    1.500000    2.000000    1.000000   \n",
       "max      2.000000  202.000000    1.000000    6.200000    3.000000    9.000000   \n",
       "\n",
       "             thal  \n",
       "count  443.000000  \n",
       "mean     5.040632  \n",
       "std      1.944518  \n",
       "min      1.000000  \n",
       "25%      3.000000  \n",
       "50%      6.000000  \n",
       "75%      7.000000  \n",
       "max      7.000000  "
      ]
     },
     "execution_count": 7,
     "metadata": {},
     "output_type": "execute_result"
    }
   ],
   "source": [
    "#Check types and shape of data\n",
    "print('Data types\\n----------------------\\n', all_data.dtypes)\n",
    "print('\\n\\nData shape:', all_data.shape)\n",
    "\n",
    "#How many NaN values are there per column\n",
    "print('\\n\\nNaN values per column\\n----------------------\\n',np.sum(np.isnan(all_data)))\n",
    "\n",
    "#Check label values\n",
    "print('\\nMaximum of labels:',np.max(all_labels))\n",
    "\n",
    "#Basic information\n",
    "all_data.describe()"
   ]
  },
  {
   "cell_type": "code",
   "execution_count": 8,
   "metadata": {},
   "outputs": [
    {
     "data": {
      "image/png": "[encoded data removed]",
      "text/plain": [
       "<matplotlib.figure.Figure at 0x22192cbbd30>"
      ]
     },
     "metadata": {},
     "output_type": "display_data"
    }
   ],
   "source": [
    "#Calculate pairwise correlation coefficients\n",
    "correlations = all_data.corr()\n",
    "\n",
    "#Plot the correlation matrix\n",
    "fig = plt.figure(figsize=(12, 12))\n",
    "ax = fig.add_subplot(111)\n",
    "cax = ax.matshow(correlations, vmin=-1, vmax=1)\n",
    "fig.colorbar(cax)\n",
    "ticks = np.arange(0,13)\n",
    "plt.title('Pairwise Correlation Matrix')\n",
    "ax.set_xticks(ticks)\n",
    "ax.set_yticks(ticks)\n",
    "ax.set_xticklabels(list(correlations))\n",
    "ax.set_yticklabels(list(correlations))\n",
    "plt.show()"
   ]
  },
  {
   "cell_type": "markdown",
   "metadata": {},
   "source": [
    "The data has the shape of a two-dimensional array (920,13) and all the data values are floating point numbers as assumed (no more corrupted or encoded missing data). There are over a thousand NaN values which will need to be changed to mean values before creating the model. The maximum value of the labels is 4, but the categorization is to be done with only two options, healthy or affected, so the values from 2 to 4 must be changed to 1. The values also need to be scaled as the dataset includes variables with quite different ranges of values (for example 0 to 1 and 126 to 564).\n",
    "\n",
    "The pairwise correlation matrix shows how the attributes intercorrelate. There is, for example, negative correlation between the maximum heart rate achieved and age as well as exercise induced chest pain."
   ]
  },
  {
   "cell_type": "markdown",
   "metadata": {},
   "source": [
    "### 3.3 Preprocessing\n",
    "* Turn label values of 2 to 4 to 1\n",
    "* Replace NaN values with mean values\n",
    "* Scale the data (from 0 to 1)"
   ]
  },
  {
   "cell_type": "code",
   "execution_count": 9,
   "metadata": {
    "collapsed": true
   },
   "outputs": [],
   "source": [
    "#Turn label values of 2 to 4 to 1 to produce binary outcome\n",
    "all_labels = all_labels.replace([2,3,4], 1)\n",
    "\n",
    "#Replace NaN values with mean values\n",
    "all_data = all_data.fillna(all_data.mean())\n",
    "\n",
    "#Scale the data from 0 to 1\n",
    "scaler = preprocessing.MinMaxScaler()\n",
    "all_scaled_data = scaler.fit_transform(all_data)"
   ]
  },
  {
   "cell_type": "code",
   "execution_count": 10,
   "metadata": {},
   "outputs": [
    {
     "name": "stdout",
     "output_type": "stream",
     "text": [
      "Labels: minimum: 0.0 maximum: 1.0\n",
      "\n",
      "Scaled Data\n",
      "----------------\n",
      "[[ 0.71428571  1.          0.         ...,  1.          0.          0.83333333]\n",
      " [ 0.79591837  1.          1.         ...,  0.66666667  0.33333333\n",
      "   0.33333333]\n",
      " [ 0.79591837  1.          1.         ...,  0.66666667  0.22222222  1.        ]\n",
      " ..., \n",
      " [ 0.57142857  1.          0.66666667 ...,  0.66666667  0.0781362   1.        ]\n",
      " [ 0.53061224  1.          1.         ...,  0.66666667  0.0781362   1.        ]\n",
      " [ 0.7755102   0.          1.         ...,  0.58932462  0.0781362   1.        ]]\n",
      "\n",
      "minimum: 0.0  \n",
      "maximum: 1.0  \n",
      "mean: 0.476239671236  \n",
      "standard deviation: 0.347073452951\n"
     ]
    }
   ],
   "source": [
    "#Verify the results\n",
    "print('Labels: minimum:', np.min(all_labels),'maximum:', np.max(all_labels))\n",
    "print('\\nScaled Data\\n----------------')\n",
    "print(all_scaled_data)\n",
    "print('\\nminimum:', np.min(all_scaled_data), \n",
    "      ' \\nmaximum:', np.max(all_scaled_data), \n",
    "      ' \\nmean:', np.mean(all_scaled_data),\n",
    "      ' \\nstandard deviation:', np.std(all_scaled_data))"
   ]
  },
  {
   "cell_type": "markdown",
   "metadata": {},
   "source": [
    "## 4 Modeling\n",
    "* Divide the data so that 70% of it is used for training and 30% for validation\n",
    "* Create the dense model and compile it"
   ]
  },
  {
   "cell_type": "code",
   "execution_count": 11,
   "metadata": {},
   "outputs": [
    {
     "name": "stdout",
     "output_type": "stream",
     "text": [
      "Shapes\n",
      "------------------ \n",
      "x_train: (644, 13) \n",
      "y_train: (644,) \n",
      "x_test:  (276, 13) \n",
      "y_test:  (276,)\n"
     ]
    }
   ],
   "source": [
    "#Splitting the data into separate training and validation sets (70% / 30%)\n",
    "x_train, x_val, y_train, y_val = train_test_split(all_scaled_data, all_labels, test_size=0.30)\n",
    "\n",
    "#Verify the set shapes\n",
    "print('Shapes\\n------------------',\n",
    "      '\\nx_train:',x_train.shape,\n",
    "      '\\ny_train:',y_train.shape,\n",
    "      '\\nx_test: ', x_val.shape,\n",
    "      '\\ny_test: ', y_val.shape)"
   ]
  },
  {
   "cell_type": "code",
   "execution_count": 12,
   "metadata": {
    "collapsed": true
   },
   "outputs": [],
   "source": [
    "#Create the model\n",
    "model = Sequential()\n",
    "model.add(Dense(16, activation = 'relu', input_dim = 13))\n",
    "model.add(Dense(12, activation = 'relu'))\n",
    "model.add(Dense(1, activation = 'sigmoid'))\n",
    "\n",
    "#Compile the model\n",
    "model.compile(loss = 'binary_crossentropy', optimizer = 'rmsprop', metrics = ['acc'])"
   ]
  },
  {
   "cell_type": "markdown",
   "metadata": {},
   "source": [
    "## 5. Training and Testing"
   ]
  },
  {
   "cell_type": "code",
   "execution_count": 13,
   "metadata": {
    "collapsed": true
   },
   "outputs": [],
   "source": [
    "#Training the model\n",
    "\n",
    "#N = number of epochs, B = batch size\n",
    "N = 30\n",
    "B = 16\n",
    "\n",
    "#Train the model\n",
    "h = model.fit(x_train, y_train, \n",
    "                 verbose = 0, \n",
    "                 epochs = N, \n",
    "                 batch_size = B, \n",
    "                 validation_data=(x_val,y_val))"
   ]
  },
  {
   "cell_type": "markdown",
   "metadata": {},
   "source": [
    "### 5.1 Plotting Results"
   ]
  },
  {
   "cell_type": "code",
   "execution_count": 14,
   "metadata": {
    "collapsed": true
   },
   "outputs": [],
   "source": [
    "#Saving required data into variables\n",
    "\n",
    "epochs = range(1, N + 1)\n",
    "\n",
    "acc = h.history['acc']\n",
    "val_acc = h.history['val_acc']\n",
    "loss = h.history['loss']\n",
    "val_loss = h.history['val_loss']"
   ]
  },
  {
   "cell_type": "code",
   "execution_count": 15,
   "metadata": {},
   "outputs": [
    {
     "data": {
      "image/png": "[encoded data removed]",
      "text/plain": [
       "<matplotlib.figure.Figure at 0x22194a55ba8>"
      ]
     },
     "metadata": {},
     "output_type": "display_data"
    }
   ],
   "source": [
    "#Plotting Accuracy\n",
    "\n",
    "plt.figure(figsize = (20, 5))\n",
    "plt.plot(epochs, acc, 'co', label='Training')\n",
    "plt.plot(epochs, val_acc, 'c', label = 'Validation')\n",
    "plt.title('Train and Validation Accuracy')\n",
    "plt.xlabel('Epochs')\n",
    "plt.ylabel('Accuracy')\n",
    "plt.ylim([0, 1])\n",
    "plt.grid()\n",
    "plt.legend()\n",
    "plt.show()"
   ]
  },
  {
   "cell_type": "code",
   "execution_count": 16,
   "metadata": {},
   "outputs": [
    {
     "data": {
      "image/png": "[encoded data removed]",
      "text/plain": [
       "<matplotlib.figure.Figure at 0x22193171f28>"
      ]
     },
     "metadata": {},
     "output_type": "display_data"
    }
   ],
   "source": [
    "#Plotting Loss\n",
    "\n",
    "plt.figure(figsize = (20, 5))\n",
    "plt.plot(epochs, loss, 'mo', label='Training')\n",
    "plt.plot(epochs, val_loss, 'm', label = 'Validation')\n",
    "plt.title('Train and Validation Loss')\n",
    "plt.xlabel('Epochs')\n",
    "plt.ylabel('Loss')\n",
    "plt.ylim([0, 1])\n",
    "plt.grid()\n",
    "plt.legend()\n",
    "plt.show()"
   ]
  },
  {
   "cell_type": "code",
   "execution_count": 17,
   "metadata": {},
   "outputs": [
    {
     "name": "stdout",
     "output_type": "stream",
     "text": [
      "Accuracy:  0.811594202899\n",
      "Loss:      0.442087863666\n"
     ]
    }
   ],
   "source": [
    "#Evaluate the model\n",
    "evaluated = model.evaluate(x_val, y_val, batch_size = B, verbose=0)\n",
    "print('Accuracy: ',evaluated[1])\n",
    "print('Loss:     ',evaluated[0])"
   ]
  },
  {
   "cell_type": "markdown",
   "metadata": {},
   "source": [
    "## 6. Conclusions"
   ]
  },
  {
   "cell_type": "markdown",
   "metadata": {},
   "source": [
    "The final result of the best neural network setup ranged between 80% and 83%. Compared to prior attempts by researchers (78.9% at highest), the project was very succesful. Processing the raw data proved to be the most time-consuming part. The neural network model was tested with various settings:\n",
    "\n",
    "* Layers 1,2\n",
    "* Layer 1 neurons 8,12,16,32,64,512\n",
    "* Layer 2 neurons 4,8,16\n",
    "* Epochs 10-100\n",
    "* Batch Size 16-128\n",
    "\n",
    "The final model consisted of two hidden layers with 16 and 12 neurons, 30 epochs and a batch size of 16. On some rounds of testing, the network seemed to bite better on the validation data than the training set. This is probably caused by the fact that the dataset of less than a 1000 samples is quite small. On such a small set, model underfitting might cause the validation set to fit better only because of pure chance. This might lead to seemingly good results in accuracy and loss, but taking a look at the differences of the training and validation set plots over the values unveils the truth.\n",
    "\n",
    "All in all, the problem was challenging, bewildering at times, yet a great brain-teaser and the project could not have succeeded better."
   ]
  }
 ],
 "metadata": {
  "kernelspec": {
   "display_name": "Python 3",
   "language": "python",
   "name": "python3"
  },
  "language_info": {
   "codemirror_mode": {
    "name": "ipython",
    "version": 3
   },
   "file_extension": ".py",
   "mimetype": "text/x-python",
   "name": "python",
   "nbconvert_exporter": "python",
   "pygments_lexer": "ipython3",
   "version": "3.6.3"
  }
 },
 "nbformat": 4,
 "nbformat_minor": 2
}
