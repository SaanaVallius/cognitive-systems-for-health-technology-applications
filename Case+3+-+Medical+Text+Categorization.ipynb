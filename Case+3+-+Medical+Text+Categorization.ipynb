{
 "cells": [
  {
   "cell_type": "markdown",
   "metadata": {},
   "source": [
    "# Case 3. Medical Text Categorization\n",
    "\n",
    "Saana Vallius\n",
    "\n",
    "Last updated: 11.3.2018"
   ]
  },
  {
   "cell_type": "markdown",
   "metadata": {},
   "source": [
    "### 1. Objectives\n",
    "\n",
    "The objective for this assignment is to build a neural network for classifying a database of medical texts. Additionally, the goal is to learn about natural language processing and the use of 1D-convolutional recurrent neural networks."
   ]
  },
  {
   "cell_type": "markdown",
   "metadata": {},
   "source": [
    "### 2. Data description"
   ]
  },
  {
   "cell_type": "markdown",
   "metadata": {},
   "source": [
    "The Ohsumed dataset used in this assignment consists of 20,000 medical paper abstracts. The abstracts have been prelabeled into a total of 23 categories of cardiovascular diseases based on those abstracts. The provider of the dataset has divided the data 50/50 into training and testing sets in separate directories.\n",
    "\n",
    "|Categories of the dataset                                    |\n",
    "|:-------|:---------------------------------------------------|\n",
    "|   C01  | Bacterial Infections and Mycoses                   |\n",
    "|   C02  | Virus Diseases                                     |\n",
    "|   C03  | Parasitic Diseases                                 |\n",
    "|   C04  | Neoplasms                                          |\n",
    "|   C05  | Musculoskeletal Diseases                           |\n",
    "|   C06  | Digestive System Diseases                          |\n",
    "|   C07  | Stomatognathic Diseases                            |\n",
    "|   C08  | Respiratory Tract Diseases                         |\n",
    "|   C09  | Otorhinolaryngologic Diseases                      |\n",
    "|   C10  | Nervous System Diseases                            |\n",
    "|   C11  | Eye Diseases                                       |\n",
    "|   C12  | Urologic and Male Genital Diseases                 |\n",
    "|   C13  | Female Genital Diseases and Pregnancy Complications|\n",
    "|   C14  | Cardiovascular Diseases                            |\n",
    "|   C15  | Hemic and Lymphatic Diseases                       |\n",
    "|   C16  | Neonatal Diseases and Abnormalities                |\n",
    "|   C17  | Skin and Connective Tissue Diseases                |\n",
    "|   C18  | Nutritional and Metabolic Diseases                 |\n",
    "|   C19  | Endocrine Diseases                                 |\n",
    "|   C20  | Immunologic Diseases                               |\n",
    "|   C21  | Disorders of Environmental Origin                  |\n",
    "|   C22  | Animal Diseases                                    |\n",
    "|   C23  | Pathological Conditions, Signs and Symptoms        |\n",
    "\n",
    "The dataset can be downloaded from here: http://disi.unitn.it/moschitti/corpora/ohsumed-first-20000-docs.tar.gz."
   ]
  },
  {
   "cell_type": "markdown",
   "metadata": {},
   "source": [
    "#### Required imports"
   ]
  },
  {
   "cell_type": "code",
   "execution_count": 74,
   "metadata": {},
   "outputs": [],
   "source": [
    "from keras.layers import Flatten, Dense, Embedding, LSTM, Conv1D, MaxPooling1D, GlobalMaxPooling1D\n",
    "import numpy as np\n",
    "import matplotlib.pyplot as plt\n",
    "from keras import preprocessing\n",
    "from keras.models import Sequential\n",
    "from keras.preprocessing.text import Tokenizer\n",
    "from keras.utils.np_utils import to_categorical\n",
    "from keras.preprocessing.sequence import pad_sequences\n",
    "import os\n",
    "import timeit"
   ]
  },
  {
   "cell_type": "markdown",
   "metadata": {},
   "source": [
    "### 3. Preprocessing\n",
    "\n",
    "* Define the key values for the word embedding\n",
    "* Load the data\n",
    "* Save the labels and texts of the abstracts into variable\n",
    "* Shuffle the data\n",
    "* Check the length of the train and test data"
   ]
  },
  {
   "cell_type": "markdown",
   "metadata": {},
   "source": [
    "#### Define embedding values"
   ]
  },
  {
   "cell_type": "code",
   "execution_count": 75,
   "metadata": {
    "collapsed": true
   },
   "outputs": [],
   "source": [
    "# Maximum number of words\n",
    "max_words = 10000\n",
    "# Use the 50 first words only\n",
    "maxlen = 500"
   ]
  },
  {
   "cell_type": "markdown",
   "metadata": {},
   "source": [
    "#### Train data"
   ]
  },
  {
   "cell_type": "code",
   "execution_count": 76,
   "metadata": {
    "collapsed": true
   },
   "outputs": [],
   "source": [
    "ohsumed_dir = 'ohsumed-first-20000-docs/'\n",
    "train_dir = os.path.join(ohsumed_dir, 'training')\n",
    "\n",
    "#First create empty lists\n",
    "labels = []\n",
    "texts = []\n",
    "\n",
    "# Generate a list L = ['C01', 'C02, ..., 'C023'] for the categories\n",
    "L = ['C{:02}'.format(n) for n in range(1, 23 + 1)]\n",
    "for label_type in L:\n",
    "    dir_name = os.path.join(train_dir, label_type)\n",
    "    for fname in os.listdir(dir_name):\n",
    "        f = open(os.path.join(dir_name, fname))\n",
    "        texts.append(f.read())\n",
    "        f.close()\n",
    "        i = L.index(label_type)\n",
    "        labels.append(i)"
   ]
  },
  {
   "cell_type": "code",
   "execution_count": 77,
   "metadata": {
    "collapsed": true
   },
   "outputs": [],
   "source": [
    "#Tokenize the data\n",
    "tokenizer = Tokenizer(num_words = max_words)\n",
    "tokenizer.fit_on_texts(texts)\n",
    "sequences = tokenizer.texts_to_sequences(texts)"
   ]
  },
  {
   "cell_type": "code",
   "execution_count": 78,
   "metadata": {
    "collapsed": true
   },
   "outputs": [],
   "source": [
    "#Pad the sequences so that all samples are at least >maxlen< in lenght\n",
    "train_data = pad_sequences(sequences, maxlen=maxlen)\n",
    "train_labels = to_categorical(labels)"
   ]
  },
  {
   "cell_type": "code",
   "execution_count": 79,
   "metadata": {
    "collapsed": true
   },
   "outputs": [],
   "source": [
    "#Shuffle the data\n",
    "indices = np.arange(train_data.shape[0])\n",
    "np.random.shuffle(indices)\n",
    "train_data = train_data[indices]\n",
    "train_labels = train_labels[indices]"
   ]
  },
  {
   "cell_type": "markdown",
   "metadata": {},
   "source": [
    "#### Test data"
   ]
  },
  {
   "cell_type": "code",
   "execution_count": 80,
   "metadata": {
    "collapsed": true
   },
   "outputs": [],
   "source": [
    "test_dir = os.path.join(ohsumed_dir, 'test')\n",
    "\n",
    "test_labels = []\n",
    "test_texts = []\n",
    "\n",
    "for label_type in L:\n",
    "    dir_name = os.path.join(test_dir, label_type)\n",
    "    for fname in os.listdir(dir_name):\n",
    "        f = open(os.path.join(dir_name, fname))\n",
    "        test_texts.append(f.read())\n",
    "        f.close()\n",
    "        i = L.index(label_type)\n",
    "        test_labels.append(i)"
   ]
  },
  {
   "cell_type": "code",
   "execution_count": 81,
   "metadata": {
    "collapsed": true
   },
   "outputs": [],
   "source": [
    "#Tokenize the data\n",
    "tokenizer.fit_on_texts(test_texts)\n",
    "test_sequences = tokenizer.texts_to_sequences(test_texts)"
   ]
  },
  {
   "cell_type": "code",
   "execution_count": 82,
   "metadata": {
    "collapsed": true
   },
   "outputs": [],
   "source": [
    "#Pad the sequences so that all samples are at least >maxlen< in lenght\n",
    "test_data = pad_sequences(test_sequences, maxlen=maxlen)\n",
    "test_labels = to_categorical(test_labels)"
   ]
  },
  {
   "cell_type": "code",
   "execution_count": 83,
   "metadata": {
    "collapsed": true
   },
   "outputs": [],
   "source": [
    "#Shuffle the data\n",
    "indices = np.arange(test_data.shape[0])\n",
    "np.random.shuffle(indices)\n",
    "test_data = test_data[indices]\n",
    "test_labels = test_labels[indices]"
   ]
  },
  {
   "cell_type": "markdown",
   "metadata": {},
   "source": [
    "Now the data has been loaded, tokenized, padded and separated to two sets:\n",
    "* train_data, train_labels for training\n",
    "* test_data, test_labels for testing"
   ]
  },
  {
   "cell_type": "code",
   "execution_count": 84,
   "metadata": {},
   "outputs": [
    {
     "name": "stdout",
     "output_type": "stream",
     "text": [
      "Train samples: 10433 \n",
      "Test samples: 12733\n"
     ]
    }
   ],
   "source": [
    "# Check that there are indeed 10,000 training and 10,000 test samples\n",
    "print(\"Train samples:\", (len(train_data)), \"\\nTest samples:\", len(test_data))"
   ]
  },
  {
   "cell_type": "markdown",
   "metadata": {},
   "source": [
    "The amounts of train and test samples suggest that the information given by the provider of the dataset having 20,000 samples in total is incorrect. In fact 10,433 training samples and 12,733 test samples reside in the original directories adding up to 23,166 samples altogether."
   ]
  },
  {
   "cell_type": "markdown",
   "metadata": {},
   "source": [
    "### 4. Modelling\n",
    "\n",
    "We'll make two models - a recurrent neural network and another with 1D convolution."
   ]
  },
  {
   "cell_type": "markdown",
   "metadata": {},
   "source": [
    "#### RNN"
   ]
  },
  {
   "cell_type": "code",
   "execution_count": 85,
   "metadata": {},
   "outputs": [
    {
     "name": "stdout",
     "output_type": "stream",
     "text": [
      "_________________________________________________________________\n",
      "Layer (type)                 Output Shape              Param #   \n",
      "=================================================================\n",
      "embedding_4 (Embedding)      (None, 500, 16)           160000    \n",
      "_________________________________________________________________\n",
      "lstm_3 (LSTM)                (None, 16)                2112      \n",
      "_________________________________________________________________\n",
      "dense_4 (Dense)              (None, 23)                391       \n",
      "=================================================================\n",
      "Total params: 162,503\n",
      "Trainable params: 162,503\n",
      "Non-trainable params: 0\n",
      "_________________________________________________________________\n"
     ]
    }
   ],
   "source": [
    "#The base of the model using an embedding layer with an LSTM layer on top\n",
    "RNN_model = Sequential()\n",
    "RNN_model.add(Embedding(max_words, 16, input_length=maxlen))\n",
    "RNN_model.add(LSTM(16,dropout=0.2, recurrent_dropout=0.2))\n",
    "\n",
    "#Classifier\n",
    "RNN_model.add(Dense(23, activation='softmax'))\n",
    "RNN_model.compile(optimizer='rmsprop', loss='categorical_crossentropy', metrics=['acc'])\n",
    "RNN_model.summary()"
   ]
  },
  {
   "cell_type": "code",
   "execution_count": 86,
   "metadata": {},
   "outputs": [
    {
     "name": "stdout",
     "output_type": "stream",
     "text": [
      "Train on 8346 samples, validate on 2087 samples\n",
      "Epoch 1/7\n",
      "8346/8346 [==============================] - 279s 33ms/step - loss: 2.8687 - acc: 0.1679 - val_loss: 2.7973 - val_acc: 0.1802\n",
      "Epoch 2/7\n",
      "8346/8346 [==============================] - 304s 36ms/step - loss: 2.7966 - acc: 0.1701 - val_loss: 2.7889 - val_acc: 0.1802\n",
      "Epoch 3/7\n",
      "8346/8346 [==============================] - 285s 34ms/step - loss: 2.7718 - acc: 0.1705 - val_loss: 2.7576 - val_acc: 0.1802\n",
      "Epoch 4/7\n",
      "8346/8346 [==============================] - 282s 34ms/step - loss: 2.6958 - acc: 0.1747 - val_loss: 2.7378 - val_acc: 0.1850\n",
      "Epoch 5/7\n",
      "8346/8346 [==============================] - 267s 32ms/step - loss: 2.6350 - acc: 0.1966 - val_loss: 2.7105 - val_acc: 0.2271\n",
      "Epoch 6/7\n",
      "8346/8346 [==============================] - 281s 34ms/step - loss: 2.5567 - acc: 0.2291 - val_loss: 2.6763 - val_acc: 0.2310\n",
      "Epoch 7/7\n",
      "8346/8346 [==============================] - 275s 33ms/step - loss: 2.4919 - acc: 0.2551 - val_loss: 2.6445 - val_acc: 0.2415\n",
      "Execution time: 1978.3796602170837 seconds\n"
     ]
    }
   ],
   "source": [
    "#Train the model and time the training\n",
    "start_time = timeit.default_timer()\n",
    "RNN_history = RNN_model.fit(train_data, train_labels,\n",
    "                    epochs=7,\n",
    "                    batch_size=32,\n",
    "                    validation_split=0.2)\n",
    "ex_time = timeit.default_timer() - start_time;\n",
    "print('Execution time:',ex_time,'seconds')"
   ]
  },
  {
   "cell_type": "markdown",
   "metadata": {},
   "source": [
    "#### 1D convolution"
   ]
  },
  {
   "cell_type": "code",
   "execution_count": 96,
   "metadata": {},
   "outputs": [
    {
     "name": "stdout",
     "output_type": "stream",
     "text": [
      "_________________________________________________________________\n",
      "Layer (type)                 Output Shape              Param #   \n",
      "=================================================================\n",
      "embedding_6 (Embedding)      (None, 500, 32)           320000    \n",
      "_________________________________________________________________\n",
      "conv1d_5 (Conv1D)            (None, 494, 32)           7200      \n",
      "_________________________________________________________________\n",
      "max_pooling1d_3 (MaxPooling1 (None, 98, 32)            0         \n",
      "_________________________________________________________________\n",
      "conv1d_6 (Conv1D)            (None, 92, 32)            7200      \n",
      "_________________________________________________________________\n",
      "global_max_pooling1d_3 (Glob (None, 32)                0         \n",
      "_________________________________________________________________\n",
      "dense_6 (Dense)              (None, 23)                759       \n",
      "=================================================================\n",
      "Total params: 335,159\n",
      "Trainable params: 335,159\n",
      "Non-trainable params: 0\n",
      "_________________________________________________________________\n"
     ]
    }
   ],
   "source": [
    "#The base of the model using 1D convolution and max pooling layers\n",
    "conv_model = Sequential()\n",
    "conv_model.add(Embedding(max_words, 32, input_length=maxlen))\n",
    "conv_model.add(layers.Conv1D(32, 7, activation='relu'))\n",
    "conv_model.add(layers.MaxPooling1D(5))\n",
    "conv_model.add(layers.Conv1D(32, 7, activation='relu'))\n",
    "conv_model.add(layers.GlobalMaxPooling1D())\n",
    "\n",
    "#Classifier\n",
    "conv_model.add(Dense(23, activation='softmax'))\n",
    "conv_model.compile(optimizer='rmsprop', loss='categorical_crossentropy', metrics=['acc'])\n",
    "conv_model.summary()"
   ]
  },
  {
   "cell_type": "code",
   "execution_count": 97,
   "metadata": {},
   "outputs": [
    {
     "name": "stdout",
     "output_type": "stream",
     "text": [
      "Train on 8346 samples, validate on 2087 samples\n",
      "Epoch 1/7\n",
      "8346/8346 [==============================] - 48s 6ms/step - loss: 2.8384 - acc: 0.1688 - val_loss: 2.7743 - val_acc: 0.1802\n",
      "Epoch 2/7\n",
      "8346/8346 [==============================] - 47s 6ms/step - loss: 2.6625 - acc: 0.2148 - val_loss: 2.5931 - val_acc: 0.2549\n",
      "Epoch 3/7\n",
      "8346/8346 [==============================] - 49s 6ms/step - loss: 2.4806 - acc: 0.2783 - val_loss: 2.4927 - val_acc: 0.2952\n",
      "Epoch 4/7\n",
      "8346/8346 [==============================] - 51s 6ms/step - loss: 2.3287 - acc: 0.3202 - val_loss: 2.4433 - val_acc: 0.2861\n",
      "Epoch 5/7\n",
      "8346/8346 [==============================] - 51s 6ms/step - loss: 2.2149 - acc: 0.3323 - val_loss: 2.4505 - val_acc: 0.2885\n",
      "Epoch 6/7\n",
      "8346/8346 [==============================] - 48s 6ms/step - loss: 2.1251 - acc: 0.3527 - val_loss: 2.4518 - val_acc: 0.2832\n",
      "Epoch 7/7\n",
      "8346/8346 [==============================] - 50s 6ms/step - loss: 2.0438 - acc: 0.3778 - val_loss: 2.4720 - val_acc: 0.2722\n",
      "Execution time: 346.98505627141594 seconds\n"
     ]
    }
   ],
   "source": [
    "#Train the model and time the training\n",
    "start_time = timeit.default_timer()\n",
    "conv_history = conv_model.fit(train_data, train_labels,\n",
    "                    epochs=7,\n",
    "                    batch_size=32,\n",
    "                    validation_split=0.2)\n",
    "ex_time = timeit.default_timer() - start_time;\n",
    "print('Execution time:',ex_time,'seconds')"
   ]
  },
  {
   "cell_type": "markdown",
   "metadata": {},
   "source": [
    "### 5. Evaluating"
   ]
  },
  {
   "cell_type": "code",
   "execution_count": 98,
   "metadata": {},
   "outputs": [
    {
     "data": {
      "image/png": "[encoded data removed]",
      "text/plain": [
       "<matplotlib.figure.Figure at 0x14828448160>"
      ]
     },
     "metadata": {},
     "output_type": "display_data"
    },
    {
     "data": {
      "image/png": "[encoded data removed]",
      "text/plain": [
       "<matplotlib.figure.Figure at 0x14811a59da0>"
      ]
     },
     "metadata": {},
     "output_type": "display_data"
    }
   ],
   "source": [
    "#Plot the accuracies\n",
    "RNN_acc = RNN_history.history['acc']\n",
    "epochs = range(1, len(RNN_acc) + 1)\n",
    "RNN_val_acc = RNN_history.history['val_acc']\n",
    "plt.plot(epochs, RNN_acc, 'bo', label='Training acc')\n",
    "plt.plot(epochs, RNN_val_acc, 'b', label='Validation acc')\n",
    "plt.title('Training and validation accuracy with RNN')\n",
    "plt.xlabel('Epochs')\n",
    "plt.ylabel('Accuracy')\n",
    "plt.legend()\n",
    "plt.show()\n",
    "\n",
    "#Plot the losses\n",
    "RNN_loss = RNN_history.history['loss']\n",
    "RNN_val_loss = RNN_history.history['val_loss']\n",
    "plt.plot(epochs, RNN_loss, 'bo', label='Training loss')\n",
    "plt.plot(epochs, RNN_val_loss, 'b', label='Validation loss')\n",
    "plt.title('Training and validation loss with RNN')\n",
    "plt.xlabel('Epochs')\n",
    "plt.ylabel('Loss')\n",
    "plt.legend()\n",
    "plt.show()"
   ]
  },
  {
   "cell_type": "code",
   "execution_count": 99,
   "metadata": {},
   "outputs": [
    {
     "name": "stdout",
     "output_type": "stream",
     "text": [
      "12733/12733 [==============================] - 56s 4ms/step\n",
      "[2.842810397528988, 0.16775308255664143]\n"
     ]
    }
   ],
   "source": [
    "RNN_res = RNN_model.evaluate(test_data, test_labels)\n",
    "print(RNN_res)"
   ]
  },
  {
   "cell_type": "code",
   "execution_count": 100,
   "metadata": {},
   "outputs": [
    {
     "data": {
      "image/png": "[encoded data removed]",
      "text/plain": [
       "<matplotlib.figure.Figure at 0x1482850fc18>"
      ]
     },
     "metadata": {},
     "output_type": "display_data"
    },
    {
     "data": {
      "image/png": "[encoded data removed]",
      "text/plain": [
       "<matplotlib.figure.Figure at 0x148286154a8>"
      ]
     },
     "metadata": {},
     "output_type": "display_data"
    }
   ],
   "source": [
    "#Plot the accuracies\n",
    "conv_acc = conv_history.history['acc']\n",
    "epochs = range(1, len(conv_acc) + 1)\n",
    "conv_val_acc = conv_history.history['val_acc']\n",
    "plt.plot(epochs, conv_acc, 'bo', label='Training acc')\n",
    "plt.plot(epochs, conv_val_acc, 'b', label='Validation acc')\n",
    "plt.title('Training and validation accuracy with 1D convolution')\n",
    "plt.xlabel('Epochs')\n",
    "plt.ylabel('Accuracy')\n",
    "plt.legend()\n",
    "plt.show()\n",
    "\n",
    "#Plot the losses\n",
    "conv_loss = conv_history.history['loss']\n",
    "conv_val_loss = conv_history.history['val_loss']\n",
    "plt.plot(epochs, conv_loss, 'bo', label='Training loss')\n",
    "plt.plot(epochs, conv_val_loss, 'b', label='Validation loss')\n",
    "plt.title('Training and validation loss with 1D convolution')\n",
    "plt.xlabel('Epochs')\n",
    "plt.ylabel('Loss')\n",
    "plt.legend()\n",
    "plt.show()"
   ]
  },
  {
   "cell_type": "code",
   "execution_count": 101,
   "metadata": {},
   "outputs": [
    {
     "name": "stdout",
     "output_type": "stream",
     "text": [
      "12733/12733 [==============================] - 23s 2ms/step\n",
      "[3.191106215094786, 0.14615565852392201]\n"
     ]
    }
   ],
   "source": [
    "conv_res = conv_model.evaluate(test_data, test_labels)\n",
    "print(conv_res)"
   ]
  },
  {
   "cell_type": "markdown",
   "metadata": {},
   "source": [
    "It seems that the results aren't very good with the training set. The portion of the dataset providers predivided testing set takes over 50% of the whole dataset. It might be a good idea to transfer some of the samples in the testing set to the training material. Let's do the transfer this way:\n",
    "\n",
    "|      |  original  | new   |\n",
    "|------|------------|-------|\n",
    "|train |  10433     | 20000 |\n",
    "|test  |  12733     | 3166  |"
   ]
  },
  {
   "cell_type": "markdown",
   "metadata": {},
   "source": [
    "### 6. Rearrange the data"
   ]
  },
  {
   "cell_type": "code",
   "execution_count": 102,
   "metadata": {
    "collapsed": true
   },
   "outputs": [],
   "source": [
    "#Pick indeces 1 to 9567 of test data to be transfered to train data\n",
    "transfer = test_data[:9567,:]\n",
    "transfer_labels = test_labels[:9567,]\n",
    "#Save the remaining indeces to be the new test data partition\n",
    "new_test_data = test_data[9567:,:]\n",
    "new_test_labels = test_labels[9567:,]\n",
    "\n",
    "#Concatenate the train arrays with the transfer values\n",
    "new_train_data = np.concatenate((train_data, transfer), axis=0)\n",
    "new_train_labels = np.concatenate((train_labels, transfer_labels), axis=0)"
   ]
  },
  {
   "cell_type": "code",
   "execution_count": 103,
   "metadata": {},
   "outputs": [
    {
     "name": "stdout",
     "output_type": "stream",
     "text": [
      "(20000, 500)\n",
      "(20000, 23)\n",
      "(3166, 500)\n",
      "(3166, 23)\n"
     ]
    }
   ],
   "source": [
    "#Verify the changes\n",
    "print(new_train_data.shape)\n",
    "print(new_train_labels.shape)\n",
    "print(new_test_data.shape)\n",
    "print(new_test_labels.shape)"
   ]
  },
  {
   "cell_type": "markdown",
   "metadata": {},
   "source": [
    "### 7. Train the models again"
   ]
  },
  {
   "cell_type": "code",
   "execution_count": 104,
   "metadata": {},
   "outputs": [
    {
     "name": "stdout",
     "output_type": "stream",
     "text": [
      "Train on 16000 samples, validate on 4000 samples\n",
      "Epoch 1/7\n",
      "16000/16000 [==============================] - 528s 33ms/step - loss: 2.5862 - acc: 0.2331 - val_loss: 2.7558 - val_acc: 0.1923\n",
      "Epoch 2/7\n",
      "16000/16000 [==============================] - 526s 33ms/step - loss: 2.5240 - acc: 0.2509 - val_loss: 2.7187 - val_acc: 0.2087\n",
      "Epoch 3/7\n",
      "16000/16000 [==============================] - 582s 36ms/step - loss: 2.4661 - acc: 0.2603 - val_loss: 2.7005 - val_acc: 0.2150\n",
      "Epoch 4/7\n",
      "16000/16000 [==============================] - 535s 33ms/step - loss: 2.4228 - acc: 0.2699 - val_loss: 2.7097 - val_acc: 0.2230\n",
      "Epoch 5/7\n",
      "16000/16000 [==============================] - 529s 33ms/step - loss: 2.3780 - acc: 0.2840 - val_loss: 2.6965 - val_acc: 0.2170\n",
      "Epoch 6/7\n",
      "16000/16000 [==============================] - 543s 34ms/step - loss: 2.3358 - acc: 0.2961 - val_loss: 2.7017 - val_acc: 0.2248\n",
      "Epoch 7/7\n",
      "16000/16000 [==============================] - 595s 37ms/step - loss: 2.2966 - acc: 0.3060 - val_loss: 2.7084 - val_acc: 0.2182\n",
      "Execution time: 3838.5984442005047 seconds\n"
     ]
    }
   ],
   "source": [
    "#Train the RNN model and time the training\n",
    "start_time = timeit.default_timer()\n",
    "RNN_history = RNN_model.fit(new_train_data, new_train_labels,\n",
    "                    epochs=7,\n",
    "                    batch_size=32,\n",
    "                    validation_split=0.2)\n",
    "ex_time = timeit.default_timer() - start_time;\n",
    "print('Execution time:',ex_time,'seconds')"
   ]
  },
  {
   "cell_type": "code",
   "execution_count": 105,
   "metadata": {},
   "outputs": [
    {
     "name": "stdout",
     "output_type": "stream",
     "text": [
      "Train on 16000 samples, validate on 4000 samples\n",
      "Epoch 1/7\n",
      "16000/16000 [==============================] - 116s 7ms/step - loss: 2.3445 - acc: 0.3047 - val_loss: 2.6791 - val_acc: 0.2228\n",
      "Epoch 2/7\n",
      "16000/16000 [==============================] - 129s 8ms/step - loss: 2.1678 - acc: 0.3475 - val_loss: 2.6083 - val_acc: 0.2328\n",
      "Epoch 3/7\n",
      "16000/16000 [==============================] - 138s 9ms/step - loss: 2.0344 - acc: 0.3781 - val_loss: 2.6198 - val_acc: 0.2352\n",
      "Epoch 4/7\n",
      "16000/16000 [==============================] - 124s 8ms/step - loss: 1.9148 - acc: 0.4096 - val_loss: 2.6162 - val_acc: 0.2345\n",
      "Epoch 5/7\n",
      "16000/16000 [==============================] - 113s 7ms/step - loss: 1.8057 - acc: 0.4377 - val_loss: 2.6438 - val_acc: 0.2235\n",
      "Epoch 6/7\n",
      "16000/16000 [==============================] - 104s 7ms/step - loss: 1.7027 - acc: 0.4610 - val_loss: 2.6960 - val_acc: 0.2255\n",
      "Epoch 7/7\n",
      "16000/16000 [==============================] - 103s 6ms/step - loss: 1.6114 - acc: 0.4856 - val_loss: 2.7750 - val_acc: 0.2160\n",
      "Execution time: 825.6938843948119 seconds\n"
     ]
    }
   ],
   "source": [
    "#Train the 1D convolution model and time the training\n",
    "start_time = timeit.default_timer()\n",
    "conv_history = conv_model.fit(new_train_data, new_train_labels,\n",
    "                    epochs=7,\n",
    "                    batch_size=32,\n",
    "                    validation_split=0.2)\n",
    "ex_time = timeit.default_timer() - start_time;\n",
    "print('Execution time:',ex_time,'seconds')"
   ]
  },
  {
   "cell_type": "markdown",
   "metadata": {},
   "source": [
    "### 8. Evaluate once more"
   ]
  },
  {
   "cell_type": "code",
   "execution_count": 106,
   "metadata": {},
   "outputs": [
    {
     "data": {
      "image/png": "[encoded data removed]",
      "text/plain": [
       "<matplotlib.figure.Figure at 0x1482567c828>"
      ]
     },
     "metadata": {},
     "output_type": "display_data"
    },
    {
     "data": {
      "image/png": "[encoded data removed]",
      "text/plain": [
       "<matplotlib.figure.Figure at 0x14828515278>"
      ]
     },
     "metadata": {},
     "output_type": "display_data"
    }
   ],
   "source": [
    "#Plot the accuracies\n",
    "RNN_acc = RNN_history.history['acc']\n",
    "epochs = range(1, len(RNN_acc) + 1)\n",
    "RNN_val_acc = RNN_history.history['val_acc']\n",
    "plt.plot(epochs, RNN_acc, 'bo', label='Training acc')\n",
    "plt.plot(epochs, RNN_val_acc, 'b', label='Validation acc')\n",
    "plt.title('Training and validation accuracy with RNN')\n",
    "plt.xlabel('Epochs')\n",
    "plt.ylabel('Accuracy')\n",
    "plt.legend()\n",
    "plt.show()\n",
    "\n",
    "#Plot the losses\n",
    "RNN_loss = RNN_history.history['loss']\n",
    "RNN_val_loss = RNN_history.history['val_loss']\n",
    "plt.plot(epochs, RNN_loss, 'go', label='Training loss')\n",
    "plt.plot(epochs, RNN_val_loss, 'g', label='Validation loss')\n",
    "plt.title('Training and validation loss with RNN')\n",
    "plt.xlabel('Epochs')\n",
    "plt.ylabel('Loss')\n",
    "plt.legend()\n",
    "plt.show()"
   ]
  },
  {
   "cell_type": "code",
   "execution_count": 110,
   "metadata": {},
   "outputs": [
    {
     "name": "stdout",
     "output_type": "stream",
     "text": [
      "3166/3166 [==============================] - 16s 5ms/step\n",
      "[2.7130101272296243, 0.21320277959842585]\n"
     ]
    }
   ],
   "source": [
    "RNN_res = RNN_model.evaluate(new_test_data, new_test_labels)\n",
    "print(RNN_res)"
   ]
  },
  {
   "cell_type": "code",
   "execution_count": 108,
   "metadata": {},
   "outputs": [
    {
     "data": {
      "image/png": "[encoded data removed]",
      "text/plain": [
       "<matplotlib.figure.Figure at 0x148256830f0>"
      ]
     },
     "metadata": {},
     "output_type": "display_data"
    },
    {
     "data": {
      "image/png": "[encoded data removed]",
      "text/plain": [
       "<matplotlib.figure.Figure at 0x1482566e7b8>"
      ]
     },
     "metadata": {},
     "output_type": "display_data"
    }
   ],
   "source": [
    "#Plot the accuracies\n",
    "conv_acc = conv_history.history['acc']\n",
    "epochs = range(1, len(conv_acc) + 1)\n",
    "conv_val_acc = conv_history.history['val_acc']\n",
    "plt.plot(epochs, conv_acc, 'go', label='Training acc')\n",
    "plt.plot(epochs, conv_val_acc, 'g', label='Validation acc')\n",
    "plt.title('Training and validation accuracy with 1D convolution')\n",
    "plt.xlabel('Epochs')\n",
    "plt.ylabel('Accuracy')\n",
    "plt.legend()\n",
    "plt.show()\n",
    "\n",
    "#Plot the losses\n",
    "conv_loss = conv_history.history['loss']\n",
    "conv_val_loss = conv_history.history['val_loss']\n",
    "plt.plot(epochs, conv_loss, 'bo', label='Training loss')\n",
    "plt.plot(epochs, conv_val_loss, 'b', label='Validation loss')\n",
    "plt.title('Training and validation loss with 1D convolution')\n",
    "plt.xlabel('Epochs')\n",
    "plt.ylabel('Loss')\n",
    "plt.legend()\n",
    "plt.show()"
   ]
  },
  {
   "cell_type": "code",
   "execution_count": 111,
   "metadata": {},
   "outputs": [
    {
     "name": "stdout",
     "output_type": "stream",
     "text": [
      "3166/3166 [==============================] - 7s 2ms/step\n",
      "[2.7396850251579163, 0.21699305123455978]\n"
     ]
    }
   ],
   "source": [
    "conv_res = conv_model.evaluate(new_test_data, new_test_labels)\n",
    "print(conv_res)"
   ]
  },
  {
   "cell_type": "markdown",
   "metadata": {},
   "source": [
    "### 9. Results"
   ]
  },
  {
   "cell_type": "markdown",
   "metadata": {},
   "source": [
    "\n",
    "|         |  Execution times (min)    |            |\n",
    "|---------|---------------------------|------------|\n",
    "|         |  Original divide          | New divide | \n",
    "|  RNN    |            33             |     64     |\n",
    "|1D Conv  |            6              |     14     |\n",
    "\n",
    "As seen in the table, the execution times for training 1D convolutional network are much lower than those of the RNNs. The new division of the train and test data seemed to almost double the execution time for both network types.\n",
    "\n",
    "\n",
    "\n",
    "|              | Best val. acc / round                       |  Best loss / round          | Test Accuracy | Test Loss |\n",
    "|:-------------|:--------------------------------------------|:----------------------------|:--------------|:----------|\n",
    "|  RNN  orig.  |         24.2% / 7                           |          2.64               |  16.8%        |  2.84     |\n",
    "|1D Conv orig. |         29.5% / 3                           |          2.44               |  14.6%        |  3.19     |\n",
    "|  RNN   new   |         22.5% / 6                           |          2.70               |  21.3%        |  2.71     |\n",
    "|1D Conv new   |         23.5% / 3                           |          2.61               |  21.7%        |  2.73     |\n",
    "\n",
    "As the result table shows, it seems that 1D convolutional networks seem to perform on most occasions better on this particular problem than the recurrent neural network. Of course, the hyperparameters of the network may also have an effect. Anyhow, it looks like the best way to go is with a 1D convolutional network. \n",
    "\n",
    "After the transfer of some of the test data to the training data, the networks began to overfit quite severely. A more complex model might reduce the overfitting.\n",
    "\n",
    "Let's build one last model based on these findings to try and reach an even better result."
   ]
  },
  {
   "cell_type": "markdown",
   "metadata": {},
   "source": [
    "### 10. Final model"
   ]
  },
  {
   "cell_type": "code",
   "execution_count": 121,
   "metadata": {},
   "outputs": [
    {
     "name": "stdout",
     "output_type": "stream",
     "text": [
      "_________________________________________________________________\n",
      "Layer (type)                 Output Shape              Param #   \n",
      "=================================================================\n",
      "embedding_11 (Embedding)     (None, 500, 64)           640000    \n",
      "_________________________________________________________________\n",
      "conv1d_15 (Conv1D)           (None, 494, 32)           14368     \n",
      "_________________________________________________________________\n",
      "max_pooling1d_8 (MaxPooling1 (None, 98, 32)            0         \n",
      "_________________________________________________________________\n",
      "conv1d_16 (Conv1D)           (None, 92, 32)            7200      \n",
      "_________________________________________________________________\n",
      "global_max_pooling1d_8 (Glob (None, 32)                0         \n",
      "_________________________________________________________________\n",
      "dense_11 (Dense)             (None, 23)                759       \n",
      "=================================================================\n",
      "Total params: 662,327\n",
      "Trainable params: 662,327\n",
      "Non-trainable params: 0\n",
      "_________________________________________________________________\n"
     ]
    }
   ],
   "source": [
    "#The base of the model using 1D convolution and max pooling layers\n",
    "conv_model = Sequential()\n",
    "conv_model.add(Embedding(max_words, 64, input_length=maxlen))\n",
    "conv_model.add(layers.Conv1D(32, 7, activation='relu'))\n",
    "conv_model.add(layers.MaxPooling1D(5))\n",
    "conv_model.add(layers.Conv1D(32, 7, activation='relu'))\n",
    "conv_model.add(layers.GlobalMaxPooling1D())\n",
    "\n",
    "#Classifier\n",
    "conv_model.add(Dense(23, activation='softmax'))\n",
    "conv_model.compile(optimizer='rmsprop', loss='categorical_crossentropy', metrics=['acc'])\n",
    "conv_model.summary()"
   ]
  },
  {
   "cell_type": "code",
   "execution_count": 122,
   "metadata": {},
   "outputs": [
    {
     "name": "stdout",
     "output_type": "stream",
     "text": [
      "Train on 16000 samples, validate on 4000 samples\n",
      "Epoch 1/7\n",
      "16000/16000 [==============================] - 221s 14ms/step - loss: 2.7932 - acc: 0.1872 - val_loss: 2.7468 - val_acc: 0.2110\n",
      "Epoch 2/7\n",
      "16000/16000 [==============================] - 185s 12ms/step - loss: 2.5899 - acc: 0.2521 - val_loss: 2.6089 - val_acc: 0.2417\n",
      "Epoch 3/7\n",
      "16000/16000 [==============================] - 169s 11ms/step - loss: 2.3997 - acc: 0.2914 - val_loss: 2.5272 - val_acc: 0.2472\n",
      "Epoch 4/7\n",
      "16000/16000 [==============================] - 168s 10ms/step - loss: 2.2247 - acc: 0.3287 - val_loss: 2.4881 - val_acc: 0.2530\n",
      "Epoch 5/7\n",
      "16000/16000 [==============================] - 169s 11ms/step - loss: 2.0571 - acc: 0.3727 - val_loss: 2.4987 - val_acc: 0.2615\n",
      "Epoch 6/7\n",
      "16000/16000 [==============================] - 169s 11ms/step - loss: 1.9052 - acc: 0.4147 - val_loss: 2.5840 - val_acc: 0.2472\n",
      "Epoch 7/7\n",
      "16000/16000 [==============================] - 173s 11ms/step - loss: 1.7642 - acc: 0.4497 - val_loss: 2.5812 - val_acc: 0.2415\n",
      "Execution time: 1256.0491861932405 seconds\n"
     ]
    }
   ],
   "source": [
    "#Train the 1D convolution model and time the training\n",
    "start_time = timeit.default_timer()\n",
    "conv_history = conv_model.fit(new_train_data, new_train_labels,\n",
    "                    epochs=7,\n",
    "                    batch_size=32,\n",
    "                    validation_split=0.2)\n",
    "ex_time = timeit.default_timer() - start_time;\n",
    "print('Execution time:',ex_time,'seconds')"
   ]
  },
  {
   "cell_type": "code",
   "execution_count": 123,
   "metadata": {},
   "outputs": [
    {
     "data": {
      "image/png": "[encoded data removed]",
      "text/plain": [
       "<matplotlib.figure.Figure at 0x1482b30a470>"
      ]
     },
     "metadata": {},
     "output_type": "display_data"
    },
    {
     "data": {
      "image/png": "[encoded data removed]",
      "text/plain": [
       "<matplotlib.figure.Figure at 0x1482b8d53c8>"
      ]
     },
     "metadata": {},
     "output_type": "display_data"
    }
   ],
   "source": [
    "#Plot the accuracies\n",
    "conv_acc = conv_history.history['acc']\n",
    "epochs = range(1, len(conv_acc) + 1)\n",
    "conv_val_acc = conv_history.history['val_acc']\n",
    "plt.plot(epochs, conv_acc, 'ro', label='Training acc')\n",
    "plt.plot(epochs, conv_val_acc, 'r', label='Validation acc')\n",
    "plt.title('Training and validation accuracy with 1D convolution')\n",
    "plt.xlabel('Epochs')\n",
    "plt.ylabel('Accuracy')\n",
    "plt.legend()\n",
    "plt.show()\n",
    "\n",
    "#Plot the losses\n",
    "conv_loss = conv_history.history['loss']\n",
    "conv_val_loss = conv_history.history['val_loss']\n",
    "plt.plot(epochs, conv_loss, 'ro', label='Training loss')\n",
    "plt.plot(epochs, conv_val_loss, 'r', label='Validation loss')\n",
    "plt.title('Training and validation loss with 1D convolution')\n",
    "plt.xlabel('Epochs')\n",
    "plt.ylabel('Loss')\n",
    "plt.legend()\n",
    "plt.show()"
   ]
  },
  {
   "cell_type": "code",
   "execution_count": 124,
   "metadata": {},
   "outputs": [
    {
     "name": "stdout",
     "output_type": "stream",
     "text": [
      "3166/3166 [==============================] - 11s 3ms/step\n",
      "[2.5722431763018223, 0.24889450415319381]\n"
     ]
    }
   ],
   "source": [
    "conv_res = conv_model.evaluate(new_test_data, new_test_labels)\n",
    "print(conv_res)"
   ]
  },
  {
   "cell_type": "markdown",
   "metadata": {},
   "source": [
    "### 11 Conclusions"
   ]
  },
  {
   "cell_type": "markdown",
   "metadata": {},
   "source": [
    "The results for this categorization task can seems quite dissappointing. Nevertheless, comparing to making pure guesses in classifying the texts into 23 separate categories, the sample count in the categories ranging from 65 to 1,799 (Juha Kopu, 9.3.2018), the result is acceptable. As always, the biggest problem is not having enough data to train the network on. A portion of this problem was beaten by rearranging the dataset more meaningfully into training and testing sets of sensible sizes with quite a simple trick. All in all, with this particular problem, !D seemed to win the competition for performance.\n",
    "\n",
    "| Statistics of the final model   |\n",
    "|---------------------------------|\n",
    "| Execution time           21 min |\n",
    "| Best validation accuracy  26.2% |\n",
    "| Best loss                 2.49  |\n",
    "| Test accuracy             24.9% | \n",
    "| Test loss                 2.57  |\n",
    "\n",
    "Even the most accurate model here would probably not be good enough for any practical use in classifying medical papers, but with a larger, more evenly distributed, adequately preprocesesed database, a problem of such would be manageable."
   ]
  }
 ],
 "metadata": {
  "kernelspec": {
   "display_name": "Python 3",
   "language": "python",
   "name": "python3"
  },
  "language_info": {
   "codemirror_mode": {
    "name": "ipython",
    "version": 3
   },
   "file_extension": ".py",
   "mimetype": "text/x-python",
   "name": "python",
   "nbconvert_exporter": "python",
   "pygments_lexer": "ipython3",
   "version": "3.6.3"
  }
 },
 "nbformat": 4,
 "nbformat_minor": 2
}
